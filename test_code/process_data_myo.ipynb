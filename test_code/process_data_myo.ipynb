{
 "cells": [
  {
   "cell_type": "code",
   "execution_count": 1,
   "metadata": {},
   "outputs": [],
   "source": [
    "import os, sys\n",
    "import pickle\n",
    "import numpy as np\n",
    "import seaborn as sns\n",
    "import matplotlib.pyplot as plt\n",
    "import torch\n",
    "import pandas as pd"
   ]
  },
  {
   "cell_type": "markdown",
   "metadata": {},
   "source": [
    "### filename = D<#day>M<#motion/label>T<#trail>.csv\n",
    "* myo dataset\n",
    "    * total participants = 5\n",
    "    * total gestures = 22\n",
    "    * trails per parti = 4\n",
    "    * days per parti = 30\n",
    "    * total sessions = 3\n",
    "        * 10 days for each session\n",
    "    * each session = day\n",
    "   \n",
    "   \n",
    "* 3DC dataset\n",
    "    * total participants = 22\n",
    "    * total gestures = 11\n",
    "    * trails per parti = 4\n",
    "    * days (sessions) per parti = 4\n",
    "    * dataloaders per parti = 4 \n",
    "        * second cycle (max activation) is excluded"
   ]
  },
  {
   "cell_type": "code",
   "execution_count": 2,
   "metadata": {},
   "outputs": [],
   "source": [
    "data_dir = \"/home/laiy/gitrepos/msr_final/Wearable_Sensor_Long-term_sEMG_Dataset/data\"\n",
    "processed_data_dir = \"/home/laiy/gitrepos/msr_final/LongTermEMG_myo/Processed_datasets\"\n",
    "code_dir = \"/home/laiy/gitrepos/msr_final/LongTermEMG_myo\"\n",
    "save_dir = \"/home/laiy/gitrepos/msr_final/LongTermEMG_myo/Results\"\n",
    "\n",
    "pos = ['N', 'I', 'O', 'N', 'I', 'I', 'O', 'O', 'N', 'N',      # 1-10th day \n",
    "      'O', 'N', 'N', 'O', 'O', 'I', 'I', 'I', 'N', 'O',       # 11-20th day\n",
    "      'O', 'I', 'O', 'I', 'I', 'N', 'N', 'I', 'N', 'O']       # 21-30th day\n",
    "\n",
    "pos_label = [1, 2, 3, 1, 2, 2, 3, 3, 1, 1,\n",
    "            3, 1, 1, 3, 3, 2, 2, 2, 1, 3,\n",
    "            3, 2, 3, 2, 2, 1, 1, 2, 1, 3] # N: 1, I: 2, O: 3\n",
    "\n",
    "day_num = 30\n",
    "sub_num = 5\n",
    "mov_num = 22\n",
    "fs = 200\n",
    "ch_num = 8\n",
    "trial_num = 4\n",
    "\n",
    "fs_pass = 15\n",
    "fil_order = 5\n",
    "\n",
    "win_size = 50            # 250ms window\n",
    "win_inc = 10             # 50ms overlap"
   ]
  },
  {
   "cell_type": "code",
   "execution_count": 3,
   "metadata": {},
   "outputs": [
    {
     "data": {
      "text/plain": [
       "[[1, 4, 9, 10, 12, 13, 19, 26, 27, 29],\n",
       " [2, 5, 6, 16, 17, 18, 22, 24, 25, 28],\n",
       " [3, 7, 8, 11, 14, 15, 20, 21, 23, 30]]"
      ]
     },
     "execution_count": 3,
     "metadata": {},
     "output_type": "execute_result"
    }
   ],
   "source": [
    "# days correspond to N, I, and O positions\n",
    "sessions_idx = [[],[],[]]\n",
    "for idx, pl in enumerate(pos_label):\n",
    "    sessions_idx[pl-1].append(idx+1)\n",
    "sessions_idx"
   ]
  },
  {
   "cell_type": "markdown",
   "metadata": {},
   "source": [
    "### Process Data"
   ]
  },
  {
   "cell_type": "code",
   "execution_count": 9,
   "metadata": {},
   "outputs": [],
   "source": [
    "def format_examples(emg_examples, window_size=50, size_non_overlap=10):\n",
    "    ''' \n",
    "    emg_examples: list of emg signals, each row represent one recording of a 8 channel emg\n",
    "    feature_set_function\n",
    "    window_size: analysis window size\n",
    "    size_non_overlap: length of non-overlap portion between each analysis window\n",
    "    '''\n",
    "    formated_examples = []\n",
    "    example = []\n",
    "    for emg_vector in emg_examples:\n",
    "        if len(example) == 0:\n",
    "            example = emg_vector\n",
    "        else:\n",
    "            example = np.row_stack((example, emg_vector))\n",
    "        \n",
    "        # store one window_size of signal\n",
    "        if len(example) >= window_size:\n",
    "            formated_examples.append(example.copy())\n",
    "            # Remove part of the data of the example according to the size_non_overlap variable\n",
    "            example = example[size_non_overlap:]\n",
    "            \n",
    "    return formated_examples"
   ]
  },
  {
   "cell_type": "code",
   "execution_count": 13,
   "metadata": {},
   "outputs": [],
   "source": [
    "def read_files_to_format_training_session(path_folder_examples, day_num,\n",
    "                                          number_of_cycles, number_of_gestures, window_size,\n",
    "                                          size_non_overlap):\n",
    "    \"\"\"\n",
    "    path_folder_examples: path to load training data\n",
    "    feature_set_function\n",
    "    number_of_cycles: number of trials recorded for each motion\n",
    "    number_of_gestures\n",
    "    window_size: analysis window size\n",
    "    size_non_overlap: length of non-overlap portion between each analysis window\n",
    "    \n",
    "    shape(formated_example) = (26, 50, 8)\n",
    "    \"\"\"\n",
    "    examples_training, labels_training = [], []\n",
    "    \n",
    "    for cycle in range(1, number_of_cycles+1):\n",
    "        examples, labels = [], []\n",
    "        for gesture_index in range(1, number_of_gestures+1):\n",
    "            read_file = path_folder_examples + \"/D\" + str(day_num) + \"M\" + str(gesture_index) + \"T\" + str(cycle) + \".csv\"\n",
    "#             print(\"      READ \", read_file)\n",
    "            examples_to_format = pd.read_csv(read_file, header=None).to_numpy()\n",
    "            # each file contains 15s (300 rows) of 8 channel signals \n",
    "#             print(\"            data = \", np.shape(examples_to_format))\n",
    "            \n",
    "            examples_formatted = format_examples(examples_to_format,\n",
    "                                     window_size=window_size,\n",
    "                                     size_non_overlap=size_non_overlap)\n",
    "#             print(\"            formated = \", np.shape(examples_formatted))\n",
    "\n",
    "            examples.extend(examples_formatted)\n",
    "            labels.extend(np.ones(len(examples_formatted)) * gesture_index)\n",
    "            \n",
    "#         print(\"   SHAPE SESSION \", cycle, \" EXAMPLES: \", np.shape(examples))\n",
    "        examples_training.append(examples)\n",
    "        labels_training.append(labels)\n",
    "#         print(\"   SHAPE ALL SESSION EXAMPLES: \", np.shape(examples_training))  \n",
    "\n",
    "    return examples_training, labels_training"
   ]
  },
  {
   "cell_type": "code",
   "execution_count": 14,
   "metadata": {},
   "outputs": [],
   "source": [
    "path = data_dir\n",
    "store_path = processed_data_dir\n",
    "number_of_cycles = trial_num\n",
    "number_of_gestures = mov_num\n",
    "window_size = win_size\n",
    "size_non_overlap = win_inc"
   ]
  },
  {
   "cell_type": "code",
   "execution_count": 15,
   "metadata": {},
   "outputs": [
    {
     "name": "stdout",
     "output_type": "stream",
     "text": [
      "process data in days  [1, 4, 9, 10, 12, 13, 19, 26, 27, 29]\n",
      "@ traning sessions =  (1, 40, 572, 50, 8)\n",
      "process data in days  [2, 5, 6, 16, 17, 18, 22, 24, 25, 28]\n",
      "@ traning sessions =  (2, 40, 572, 50, 8)\n",
      "process data in days  [3, 7, 8, 11, 14, 15, 20, 21, 23, 30]\n",
      "@ traning sessions =  (3, 40, 572, 50, 8)\n"
     ]
    }
   ],
   "source": [
    "# load one participant for now\n",
    "for index_participant in range(1,2):\n",
    "    # load one participant data \n",
    "    folder_participant = \"sub\" + str(index_participant)\n",
    "    examples_participant_training_sessions, labels_participant_training_sessions = [], []\n",
    "    for days_of_current_session in sessions_idx:\n",
    "        print(\"process data in days \", days_of_current_session)\n",
    "        examples_per_session, labels_per_session = [], []\n",
    "        for day_num in days_of_current_session:\n",
    "            path_folder_examples = path + \"/\" + folder_participant + \"/day\" + str(day_num)\n",
    "#             print(\"current dir = \", day_num)\n",
    "            \n",
    "            examples_training, labels_training  = \\\n",
    "                read_files_to_format_training_session(path_folder_examples=path_folder_examples,\n",
    "                                                      day_num = day_num,\n",
    "                                                      number_of_cycles=number_of_cycles,\n",
    "                                                      number_of_gestures=number_of_gestures,\n",
    "                                                      window_size=window_size,\n",
    "                                                      size_non_overlap=size_non_overlap)\n",
    "            examples_per_session.extend(examples_training)\n",
    "            labels_per_session.extend(labels_training)\n",
    "        examples_participant_training_sessions.append(examples_per_session)\n",
    "        labels_participant_training_sessions.append(labels_per_session)\n",
    "        print(\"@ traning sessions = \", np.shape(examples_participant_training_sessions))"
   ]
  },
  {
   "cell_type": "code",
   "execution_count": 16,
   "metadata": {},
   "outputs": [
    {
     "name": "stdout",
     "output_type": "stream",
     "text": [
      "traning examples  (3, 40, 572, 50, 8)\n",
      "all traning examples  (1, 3, 40, 572, 50, 8)\n",
      "traning labels  (3, 40, 572)\n",
      "all traning labels  (1, 3, 40, 572)\n"
     ]
    }
   ],
   "source": [
    "# store processed data to dictionary\n",
    "\n",
    "# participants_num x sessions_num(3) x days_per_session(10)*trail_per_day(4) x #examples_window*#mov(26*22=572) x window_size x channel_num\n",
    "print('traning examples ', np.shape(examples_participant_training_sessions))\n",
    "examples_training_sessions_datasets = []\n",
    "examples_training_sessions_datasets.append(examples_participant_training_sessions)\n",
    "print('all traning examples ', np.shape(examples_training_sessions_datasets))\n",
    "\n",
    "# participants_num x sessions_num(3) x days_per_session(10)*trail_per_day(4) x #examples_window*#mov(26*22=572)\n",
    "print('traning labels ', np.shape(labels_participant_training_sessions))\n",
    "labels_training_sessions_datasets = []\n",
    "labels_training_sessions_datasets.append(labels_participant_training_sessions)\n",
    "print('all traning labels ', np.shape(labels_training_sessions_datasets))\n",
    "\n",
    "dataset_dictionnary = {\"examples_training\": np.array(examples_training_sessions_datasets, dtype=object),\n",
    "                       \"labels_training\": np.array(labels_training_sessions_datasets, dtype=object)}"
   ]
  },
  {
   "cell_type": "code",
   "execution_count": 17,
   "metadata": {},
   "outputs": [],
   "source": [
    "# store dictionary to pickle\n",
    "training_session_dataset_dictionnary = {}\n",
    "training_session_dataset_dictionnary[\"examples_training\"] = dataset_dictionnary[\"examples_training\"]\n",
    "training_session_dataset_dictionnary[\"labels_training\"] = dataset_dictionnary[\"labels_training\"]\n",
    "\n",
    "with open(store_path + \"raining_session.pickle\", 'wb') as f:\n",
    "    pickle.dump(training_session_dataset_dictionnary, f, pickle.HIGHEST_PROTOCOL)"
   ]
  },
  {
   "cell_type": "code",
   "execution_count": 18,
   "metadata": {},
   "outputs": [
    {
     "name": "stdout",
     "output_type": "stream",
     "text": [
      "traning examples  (1, 3, 40, 572, 50, 8)\n",
      "traning labels  (1, 3, 40, 572)\n"
     ]
    }
   ],
   "source": [
    "# check stored pickle \n",
    "with open(store_path + \"raining_session.pickle\", 'rb') as f:\n",
    "    dataset_training = pickle.load(file=f)\n",
    "\n",
    "examples_datasets_train = dataset_training['examples_training']\n",
    "print('traning examples ', np.shape(examples_datasets_train))\n",
    "labels_datasets_train = dataset_training['labels_training']\n",
    "print('traning labels ', np.shape(labels_datasets_train))"
   ]
  },
  {
   "cell_type": "code",
   "execution_count": null,
   "metadata": {},
   "outputs": [],
   "source": []
  },
  {
   "cell_type": "code",
   "execution_count": null,
   "metadata": {},
   "outputs": [],
   "source": []
  }
 ],
 "metadata": {
  "kernelspec": {
   "display_name": "Python 3",
   "language": "python",
   "name": "python3"
  },
  "language_info": {
   "codemirror_mode": {
    "name": "ipython",
    "version": 3
   },
   "file_extension": ".py",
   "mimetype": "text/x-python",
   "name": "python",
   "nbconvert_exporter": "python",
   "pygments_lexer": "ipython3",
   "version": "3.8.5"
  }
 },
 "nbformat": 4,
 "nbformat_minor": 4
}
