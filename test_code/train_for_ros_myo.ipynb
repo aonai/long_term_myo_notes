{
 "cells": [
  {
   "cell_type": "code",
   "execution_count": 1,
   "metadata": {},
   "outputs": [],
   "source": [
    "import os, sys\n",
    "import pickle\n",
    "import numpy as np\n",
    "import seaborn as sns\n",
    "import matplotlib.pyplot as plt \n",
    "import torch\n",
    "import pandas as pd "
   ]
  },
  {
   "cell_type": "markdown",
   "metadata": {},
   "source": [
    "# 0. Prepare Data\n",
    "\n",
    "### Training data includes the following gesture recordings from subject_1 at neutral wearing locations\n",
    "* rest\n",
    "* wrist flexion (WF)\n",
    "* forearm pronation and wrist extension (FP & WE)\n",
    "* radial deviation (RD)\n",
    "* ulnar deviation (UD)\n",
    "\n",
    "Check `train_for_ros_myo_one_subject.ipynb` for details."
   ]
  },
  {
   "cell_type": "code",
   "execution_count": 2,
   "metadata": {},
   "outputs": [],
   "source": [
    "os.chdir(\"/home/laiy/gitrepos/msr_final/LongTermEMG_myo\")\n",
    "from PrepareAndLoadData.process_data import read_data_training"
   ]
  },
  {
   "cell_type": "code",
   "execution_count": 3,
   "metadata": {},
   "outputs": [],
   "source": [
    "data_dir = \"/home/laiy/gitrepos/msr_final/Wearable_Sensor_Long-term_sEMG_Dataset/data\"\n",
    "processed_data_dir = \"/home/laiy/gitrepos/msr_final/LongTermEMG_myo/Processed_datasets_ros\"\n",
    "\n",
    "path_TSD =\"/home/laiy/gitrepos/msr_final/LongTermEMG_myo/TrainingsAndEvaluations/ForTrainingSessions/Weights_ros/TSD\"\n",
    "save_TSD = \"/home/laiy/gitrepos/msr_final/LongTermEMG_myo/TrainingsAndEvaluations/ForTrainingSessions/results\""
   ]
  },
  {
   "cell_type": "code",
   "execution_count": 19,
   "metadata": {},
   "outputs": [],
   "source": [
    "# read_data_training(path=data_dir, store_path = processed_data_dir, num_participant=1, include_gestures = [1,2,10,4,5])"
   ]
  },
  {
   "cell_type": "code",
   "execution_count": 5,
   "metadata": {},
   "outputs": [
    {
     "name": "stdout",
     "output_type": "stream",
     "text": [
      "traning examples  (1, 3, 40, 130, 252)\n",
      "traning labels  (1, 3, 40, 130)\n"
     ]
    }
   ],
   "source": [
    "# check stored pickle \n",
    "with open(processed_data_dir + \"/training_session.pickle\", 'rb') as f:\n",
    "    dataset_training = pickle.load(file=f)\n",
    "\n",
    "examples_datasets_train = dataset_training['examples_training']\n",
    "print('traning examples ', np.shape(examples_datasets_train))\n",
    "labels_datasets_train = dataset_training['labels_training']\n",
    "print('traning labels ', np.shape(labels_datasets_train))\n",
    "\n",
    "# 26 * 5 = 130 examples for each dataset"
   ]
  },
  {
   "cell_type": "code",
   "execution_count": 6,
   "metadata": {},
   "outputs": [
    {
     "name": "stdout",
     "output_type": "stream",
     "text": [
      "number_of_cycles_total  40\n"
     ]
    }
   ],
   "source": [
    "num_kernels=[200, 200, 200]                        # model layer size \n",
    "number_of_cycles_total=np.shape(examples_datasets_train[0][0])[0]               # #session\n",
    "print(\"number_of_cycles_total \", number_of_cycles_total)\n",
    "number_of_classes=5\n",
    "batch_size=128          \n",
    "feature_vector_input_length=252                     # size of one example \n",
    "learning_rate=0.002515"
   ]
  },
  {
   "cell_type": "markdown",
   "metadata": {},
   "source": [
    "# 1. TSD_DNN\n",
    "* The trained model is used for classifying right forearm gestures in the `myo_ros` project"
   ]
  },
  {
   "cell_type": "code",
   "execution_count": 8,
   "metadata": {},
   "outputs": [
    {
     "name": "stdout",
     "output_type": "stream",
     "text": [
      "GET one participant_examples  (3, 40, 130, 252)\n",
      "   GET one training_index_examples  (40, 130, 252)  at  0\n",
      "   GOT one group XY  (5200, 252)    (5200,)\n",
      "       one group XY test  (0,)    (0,)\n",
      "       one group XY train (4680, 252)    (4680,)\n",
      "       one group XY valid (520, 252)    (520, 252)\n",
      "   GET one training_index_examples  (40, 130, 252)  at  1\n",
      "   GOT one group XY  (5200, 252)    (5200,)\n",
      "       one group XY test  (0,)    (0,)\n",
      "       one group XY train (4680, 252)    (4680,)\n",
      "       one group XY valid (520, 252)    (520, 252)\n",
      "   GET one training_index_examples  (40, 130, 252)  at  2\n",
      "   GOT one group XY  (5200, 252)    (5200,)\n",
      "       one group XY test  (0,)    (0,)\n",
      "       one group XY train (4680, 252)    (4680,)\n",
      "       one group XY valid (520, 252)    (520, 252)\n",
      "dataloaders: \n",
      "   train  (1, 3)\n",
      "   valid  (1, 3)\n",
      "   test  (1, 0)\n",
      "START TRAINING\n",
      "Participant:  0\n",
      "Session:  0\n",
      "<generator object Module.parameters at 0x7efe449e3740>\n",
      "Epoch 0/499\n",
      "----------\n",
      "train Loss: 0.00185062 Acc: 0.93728299\n",
      "val Loss: 0.00003617 Acc: 0.99615385\n",
      "New best validation loss: 3.616625371460731e-05\n",
      "Epoch 1 of 500 took 0.397s\n",
      "Epoch 1/499\n",
      "----------\n",
      "train Loss: 0.00025480 Acc: 0.99392361\n",
      "val Loss: 0.00000552 Acc: 1.0\n",
      "Epoch 2 of 500 took 0.392s\n",
      "Epoch 2/499\n",
      "----------\n",
      "train Loss: 0.00008321 Acc: 0.99804688\n",
      "val Loss: 0.00000449 Acc: 1.0\n",
      "Epoch 3 of 500 took 0.418s\n",
      "Epoch 3/499\n",
      "----------\n",
      "train Loss: 0.00014731 Acc: 0.99565972\n",
      "val Loss: 0.00000893 Acc: 0.99615385\n",
      "Epoch 4 of 500 took 0.388s\n",
      "Epoch 4/499\n",
      "----------\n",
      "train Loss: 0.00018140 Acc: 0.99348958\n",
      "val Loss: 0.00008927 Acc: 0.98076923\n",
      "Epoch 5 of 500 took 0.330s\n",
      "Epoch 5/499\n",
      "----------\n",
      "train Loss: 0.00009905 Acc: 0.99696181\n",
      "val Loss: 0.00000174 Acc: 1.0\n",
      "Epoch 6 of 500 took 0.376s\n",
      "Epoch 6/499\n",
      "----------\n",
      "train Loss: 0.00007337 Acc: 0.99631076\n",
      "val Loss: 0.00002282 Acc: 0.99423077\n",
      "Epoch 7 of 500 took 0.498s\n",
      "Epoch 7/499\n",
      "----------\n",
      "train Loss: 0.00009885 Acc: 0.99631076\n",
      "val Loss: 0.00000053 Acc: 1.0\n",
      "Epoch 8 of 500 took 0.496s\n",
      "Epoch 8/499\n",
      "----------\n",
      "train Loss: 0.00006838 Acc: 0.99761285\n",
      "val Loss: 0.00000108 Acc: 1.0\n",
      "Epoch 9 of 500 took 0.546s\n",
      "Epoch 9/499\n",
      "----------\n",
      "train Loss: 0.00007340 Acc: 0.99696181\n",
      "val Loss: 0.00000388 Acc: 0.99807692\n",
      "Epoch 10 of 500 took 0.470s\n",
      "Epoch 10/499\n",
      "----------\n",
      "train Loss: 0.00003230 Acc: 0.99891493\n",
      "val Loss: 0.00000236 Acc: 1.0\n",
      "Epoch 11 of 500 took 0.561s\n",
      "Epoch 11/499\n",
      "----------\n",
      "train Loss: 0.00005723 Acc: 0.99804688\n",
      "val Loss: 0.00000963 Acc: 0.99807692\n",
      "Epoch 12 of 500 took 0.684s\n",
      "\n",
      "Training complete in 0m 6s\n",
      "Best val loss: 0.000036\n",
      "Session:  1\n",
      "<generator object Module.parameters at 0x7efe449e3890>\n",
      "=> loading checkpoint '/home/laiy/gitrepos/msr_final/LongTermEMG_myo/TrainingsAndEvaluations/ForTrainingSessions/Weights_ros/TSD/participant_0/best_state_0.pt'\n",
      "=> loaded checkpoint '/home/laiy/gitrepos/msr_final/LongTermEMG_myo/TrainingsAndEvaluations/ForTrainingSessions/Weights_ros/TSD/participant_0/best_state_0.pt' (epoch 1)\n",
      "Epoch 0/499\n",
      "----------\n",
      "train Loss: 0.00049998 Acc: 0.98242188\n",
      "val Loss: 0.00002965 Acc: 0.99615385\n",
      "New best validation loss: 2.9649911448359488e-05\n",
      "Epoch 1 of 500 took 0.397s\n",
      "Epoch 1/499\n",
      "----------\n",
      "train Loss: 0.00025406 Acc: 0.9906684\n",
      "val Loss: 0.00002249 Acc: 0.99615385\n",
      "Epoch 2 of 500 took 0.488s\n",
      "Epoch 2/499\n",
      "----------\n",
      "train Loss: 0.00021283 Acc: 0.99023438\n",
      "val Loss: 0.00001461 Acc: 0.99807692\n",
      "Epoch 3 of 500 took 0.475s\n",
      "Epoch 3/499\n",
      "----------\n",
      "train Loss: 0.00014008 Acc: 0.99457465\n",
      "val Loss: 0.00003536 Acc: 0.99615385\n",
      "Epoch 4 of 500 took 0.499s\n",
      "Epoch 4/499\n",
      "----------\n",
      "train Loss: 0.00016927 Acc: 0.99283854\n",
      "val Loss: 0.00000436 Acc: 0.99807692\n",
      "Epoch 5 of 500 took 0.448s\n",
      "Epoch 5/499\n",
      "----------\n",
      "train Loss: 0.00015994 Acc: 0.99414062\n",
      "val Loss: 0.00000945 Acc: 0.99807692\n",
      "Epoch 6 of 500 took 0.504s\n",
      "Epoch 6/499\n",
      "----------\n",
      "train Loss: 0.00014888 Acc: 0.99435764\n",
      "val Loss: 0.00000690 Acc: 0.99807692\n",
      "Epoch 7 of 500 took 0.481s\n",
      "Epoch 7/499\n",
      "----------\n",
      "train Loss: 0.00009891 Acc: 0.99544271\n",
      "val Loss: 0.00000630 Acc: 0.99807692\n",
      "Epoch 8 of 500 took 0.549s\n",
      "Epoch 8/499\n",
      "----------\n",
      "train Loss: 0.00010442 Acc: 0.99631076\n",
      "val Loss: 0.00001584 Acc: 0.99807692\n",
      "Epoch 9 of 500 took 0.802s\n",
      "Epoch 9/499\n",
      "----------\n",
      "train Loss: 0.00009150 Acc: 0.99652778\n",
      "val Loss: 0.00000734 Acc: 0.99807692\n",
      "Epoch 10 of 500 took 0.469s\n",
      "Epoch 10/499\n",
      "----------\n",
      "train Loss: 0.00015576 Acc: 0.99414062\n",
      "val Loss: 0.00000693 Acc: 0.99807692\n",
      "Epoch    11: reducing learning rate of group 0 to 5.0300e-04.\n",
      "Epoch 11 of 500 took 0.418s\n",
      "Epoch 11/499\n",
      "----------\n",
      "train Loss: 0.00005165 Acc: 0.9984809\n",
      "val Loss: 0.00000178 Acc: 1.0\n",
      "Epoch 12 of 500 took 0.431s\n",
      "\n",
      "Training complete in 0m 6s\n",
      "Best val loss: 0.000030\n",
      "Session:  2\n",
      "<generator object Module.parameters at 0x7efe449e3820>\n",
      "=> loading checkpoint '/home/laiy/gitrepos/msr_final/LongTermEMG_myo/TrainingsAndEvaluations/ForTrainingSessions/Weights_ros/TSD/participant_0/best_state_1.pt'\n",
      "=> loaded checkpoint '/home/laiy/gitrepos/msr_final/LongTermEMG_myo/TrainingsAndEvaluations/ForTrainingSessions/Weights_ros/TSD/participant_0/best_state_1.pt' (epoch 1)\n",
      "Epoch 0/499\n",
      "----------\n",
      "train Loss: 0.00070265 Acc: 0.97092014\n",
      "val Loss: 0.00006303 Acc: 0.99038462\n",
      "New best validation loss: 6.302625227432985e-05\n",
      "Epoch 1 of 500 took 0.412s\n",
      "Epoch 1/499\n",
      "----------\n",
      "train Loss: 0.00047843 Acc: 0.97829861\n",
      "val Loss: 0.00009834 Acc: 0.97115385\n",
      "Epoch 2 of 500 took 0.445s\n",
      "Epoch 2/499\n",
      "----------\n",
      "train Loss: 0.00036105 Acc: 0.98394097\n",
      "val Loss: 0.00004812 Acc: 0.99230769\n",
      "Epoch 3 of 500 took 0.424s\n",
      "Epoch 3/499\n",
      "----------\n",
      "train Loss: 0.00031175 Acc: 0.98632812\n",
      "val Loss: 0.00001201 Acc: 1.0\n",
      "Epoch 4 of 500 took 0.435s\n",
      "Epoch 4/499\n",
      "----------\n",
      "train Loss: 0.00030730 Acc: 0.98784722\n",
      "val Loss: 0.00001230 Acc: 1.0\n",
      "Epoch 5 of 500 took 0.428s\n",
      "Epoch 5/499\n",
      "----------\n",
      "train Loss: 0.00020894 Acc: 0.99001736\n",
      "val Loss: 0.00002611 Acc: 0.99230769\n",
      "Epoch 6 of 500 took 0.429s\n",
      "Epoch 6/499\n",
      "----------\n",
      "train Loss: 0.00015815 Acc: 0.99348958\n",
      "val Loss: 0.00001098 Acc: 0.99807692\n",
      "Epoch 7 of 500 took 0.429s\n",
      "Epoch 7/499\n",
      "----------\n",
      "train Loss: 0.00019977 Acc: 0.99131944\n",
      "val Loss: 0.00000483 Acc: 1.0\n",
      "Epoch 8 of 500 took 0.420s\n",
      "Epoch 8/499\n",
      "----------\n",
      "train Loss: 0.00024969 Acc: 0.98980035\n",
      "val Loss: 0.00000694 Acc: 1.0\n",
      "Epoch 9 of 500 took 0.421s\n",
      "Epoch 9/499\n",
      "----------\n",
      "train Loss: 0.00015918 Acc: 0.99327257\n",
      "val Loss: 0.00000858 Acc: 1.0\n",
      "Epoch 10 of 500 took 0.471s\n",
      "Epoch 10/499\n",
      "----------\n",
      "train Loss: 0.00020246 Acc: 0.99153646\n",
      "val Loss: 0.00000605 Acc: 1.0\n",
      "Epoch 11 of 500 took 0.454s\n",
      "Epoch 11/499\n",
      "----------\n",
      "train Loss: 0.00022672 Acc: 0.98914931\n",
      "val Loss: 0.00010353 Acc: 0.97884615\n",
      "Epoch 12 of 500 took 0.431s\n",
      "\n",
      "Training complete in 0m 5s\n",
      "Best val loss: 0.000063\n"
     ]
    }
   ],
   "source": [
    "train_fine_tuning(examples_datasets_train, labels_datasets_train,\n",
    "                  num_kernels=num_kernels, path_weight_to_save_to=path_TSD,\n",
    "                  number_of_classes=number_of_classes, number_of_cycles_total=number_of_cycles_total,\n",
    "                  batch_size=batch_size,\n",
    "                  feature_vector_input_length=feature_vector_input_length,\n",
    "                  learning_rate=learning_rate)"
   ]
  },
  {
   "cell_type": "code",
   "execution_count": 9,
   "metadata": {},
   "outputs": [
    {
     "name": "stdout",
     "output_type": "stream",
     "text": [
      "GET one participant_examples  (3, 40, 130, 252)\n",
      "   GET one training_index_examples  (40, 130, 252)  at  0\n",
      "   GOT one group XY  (5200, 252)    (5200,)\n",
      "       one group XY test  (1300, 252)    (1300, 252)\n",
      "       one group XY train (4680, 252)    (4680,)\n",
      "       one group XY valid (520, 252)    (520, 252)\n",
      "   GET one training_index_examples  (40, 130, 252)  at  1\n",
      "   GOT one group XY  (5200, 252)    (5200,)\n",
      "       one group XY test  (1300, 252)    (1300, 252)\n",
      "       one group XY train (4680, 252)    (4680,)\n",
      "       one group XY valid (520, 252)    (520, 252)\n",
      "   GET one training_index_examples  (40, 130, 252)  at  2\n",
      "   GOT one group XY  (5200, 252)    (5200,)\n",
      "       one group XY test  (1300, 252)    (1300, 252)\n",
      "       one group XY train (4680, 252)    (4680,)\n",
      "       one group XY valid (520, 252)    (520, 252)\n",
      "dataloaders: \n",
      "   train  (1, 3)\n",
      "   valid  (1, 3)\n",
      "   test  (1, 3)\n",
      "0  SESSION   data =  1300\n",
      "Participant:  0  Accuracy:  0.9992307692307693\n",
      "1  SESSION   data =  1300\n",
      "Participant:  0  Accuracy:  0.9076923076923077\n",
      "2  SESSION   data =  1300\n",
      "Participant:  0  Accuracy:  0.9692307692307692\n",
      "ACCURACY PARTICIPANT  0 :  [0.9992307692307693, 0.9076923076923077, 0.9692307692307692]\n",
      "[array([0.99923077, 0.90769231, 0.96923077])]\n",
      "OVERALL ACCURACY: 0.9587179487179487\n"
     ]
    }
   ],
   "source": [
    "algo_name = \"standard_TSD\"\n",
    "test_TSD_DNN_on_training_sessions(examples_datasets_train, labels_datasets_train,\n",
    "                                  num_neurons=num_kernels, use_only_first_training=True,\n",
    "                                  path_weights=path_TSD,\n",
    "                                  feature_vector_input_length=feature_vector_input_length,\n",
    "                                  save_path = save_TSD, algo_name=algo_name,\n",
    "                                  number_of_cycles_total=number_of_cycles_total,\n",
    "                                  number_of_classes=number_of_classes, cycle_for_test=3)"
   ]
  },
  {
   "cell_type": "code",
   "execution_count": 10,
   "metadata": {},
   "outputs": [
    {
     "data": {
      "text/html": [
       "<div>\n",
       "<style scoped>\n",
       "    .dataframe tbody tr th:only-of-type {\n",
       "        vertical-align: middle;\n",
       "    }\n",
       "\n",
       "    .dataframe tbody tr th {\n",
       "        vertical-align: top;\n",
       "    }\n",
       "\n",
       "    .dataframe thead th {\n",
       "        text-align: right;\n",
       "    }\n",
       "</style>\n",
       "<table border=\"1\" class=\"dataframe\">\n",
       "  <thead>\n",
       "    <tr style=\"text-align: right;\">\n",
       "      <th></th>\n",
       "      <th>Participant_0</th>\n",
       "    </tr>\n",
       "  </thead>\n",
       "  <tbody>\n",
       "    <tr>\n",
       "      <th>Session_0</th>\n",
       "      <td>0.999231</td>\n",
       "    </tr>\n",
       "    <tr>\n",
       "      <th>Session_1</th>\n",
       "      <td>0.907692</td>\n",
       "    </tr>\n",
       "    <tr>\n",
       "      <th>Session_2</th>\n",
       "      <td>0.969231</td>\n",
       "    </tr>\n",
       "  </tbody>\n",
       "</table>\n",
       "</div>"
      ],
      "text/plain": [
       "          Participant_0\n",
       "Session_0      0.999231\n",
       "Session_1      0.907692\n",
       "Session_2      0.969231"
      ]
     },
     "execution_count": 10,
     "metadata": {},
     "output_type": "execute_result"
    }
   ],
   "source": [
    "results_filename = save_TSD + '/predictions_' + algo_name + \"_no_retraining.npy\"\n",
    "results = np.load(results_filename, allow_pickle=True)\n",
    "TSD_acc = results[0]\n",
    "TSD_acc_overall = np.mean(TSD_acc)\n",
    "TSD_df = pd.DataFrame(TSD_acc.transpose(), \n",
    "                       index = [f'Session_{i}' for i in range(TSD_acc.shape[1])],\n",
    "                        columns = [f'Participant_{j}' for j in range(TSD_acc.shape[0])])\n",
    "TSD_df"
   ]
  },
  {
   "cell_type": "code",
   "execution_count": 11,
   "metadata": {},
   "outputs": [
    {
     "data": {
      "image/png": "[encoded data removed]",
      "text/plain": [
       "<Figure size 720x360 with 1 Axes>"
      ]
     },
     "metadata": {
      "needs_background": "light"
     },
     "output_type": "display_data"
    }
   ],
   "source": [
    "TSD_df.transpose().plot.bar(rot=0, figsize=(10,5))\n",
    "plt.title(\"TSD Accuracies\")\n",
    "plt.show()"
   ]
  },
  {
   "cell_type": "code",
   "execution_count": 12,
   "metadata": {},
   "outputs": [],
   "source": [
    "from TrainingsAndEvaluations.ForTrainingSessions.utils import get_gesture_accuracies"
   ]
  },
  {
   "cell_type": "code",
   "execution_count": 13,
   "metadata": {},
   "outputs": [
    {
     "name": "stdout",
     "output_type": "stream",
     "text": [
      "ground_truths  =  (1, 3)\n",
      "predictions =  (1, 3)\n",
      "accuracies_gestures =  (5, 3)\n"
     ]
    },
    {
     "data": {
      "text/html": [
       "<div>\n",
       "<style scoped>\n",
       "    .dataframe tbody tr th:only-of-type {\n",
       "        vertical-align: middle;\n",
       "    }\n",
       "\n",
       "    .dataframe tbody tr th {\n",
       "        vertical-align: top;\n",
       "    }\n",
       "\n",
       "    .dataframe thead th {\n",
       "        text-align: right;\n",
       "    }\n",
       "</style>\n",
       "<table border=\"1\" class=\"dataframe\">\n",
       "  <thead>\n",
       "    <tr style=\"text-align: right;\">\n",
       "      <th></th>\n",
       "      <th>Unnamed: 0</th>\n",
       "      <th>Sub0_Loc0</th>\n",
       "      <th>Sub0_Loc1</th>\n",
       "      <th>Sub0_Loc2</th>\n",
       "    </tr>\n",
       "  </thead>\n",
       "  <tbody>\n",
       "    <tr>\n",
       "      <th>0</th>\n",
       "      <td>M0</td>\n",
       "      <td>1.000000</td>\n",
       "      <td>1.000000</td>\n",
       "      <td>1.000000</td>\n",
       "    </tr>\n",
       "    <tr>\n",
       "      <th>1</th>\n",
       "      <td>M1</td>\n",
       "      <td>1.000000</td>\n",
       "      <td>0.846154</td>\n",
       "      <td>1.000000</td>\n",
       "    </tr>\n",
       "    <tr>\n",
       "      <th>2</th>\n",
       "      <td>M2</td>\n",
       "      <td>1.000000</td>\n",
       "      <td>1.000000</td>\n",
       "      <td>0.957692</td>\n",
       "    </tr>\n",
       "    <tr>\n",
       "      <th>3</th>\n",
       "      <td>M3</td>\n",
       "      <td>1.000000</td>\n",
       "      <td>0.757692</td>\n",
       "      <td>1.000000</td>\n",
       "    </tr>\n",
       "    <tr>\n",
       "      <th>4</th>\n",
       "      <td>M4</td>\n",
       "      <td>0.996154</td>\n",
       "      <td>0.934615</td>\n",
       "      <td>0.888462</td>\n",
       "    </tr>\n",
       "    <tr>\n",
       "      <th>5</th>\n",
       "      <td>Mean</td>\n",
       "      <td>0.999231</td>\n",
       "      <td>0.907692</td>\n",
       "      <td>0.969231</td>\n",
       "    </tr>\n",
       "  </tbody>\n",
       "</table>\n",
       "</div>"
      ],
      "text/plain": [
       "  Unnamed: 0  Sub0_Loc0  Sub0_Loc1  Sub0_Loc2\n",
       "0         M0   1.000000   1.000000   1.000000\n",
       "1         M1   1.000000   0.846154   1.000000\n",
       "2         M2   1.000000   1.000000   0.957692\n",
       "3         M3   1.000000   0.757692   1.000000\n",
       "4         M4   0.996154   0.934615   0.888462\n",
       "5       Mean   0.999231   0.907692   0.969231"
      ]
     },
     "execution_count": 13,
     "metadata": {},
     "output_type": "execute_result"
    }
   ],
   "source": [
    "ground_truths = results[1]\n",
    "predictions = results[2]\n",
    "print(\"ground_truths  = \", np.shape(ground_truths))\n",
    "print(\"predictions = \", np.shape(predictions))\n",
    "m_name = \"Sub\"\n",
    "n_name = \"Loc\"\n",
    "df = get_gesture_accuracies(ground_truths, predictions, number_of_classes=number_of_classes, \n",
    "                            m_name=m_name, n_name=n_name, path=save_TSD, algo_name=algo_name)\n",
    "df = pd.read_csv(save_TSD+'/'+algo_name+'.csv')\n",
    "df"
   ]
  },
  {
   "cell_type": "markdown",
   "metadata": {},
   "source": [
    "# 2. Test Model\n",
    "Make sure the model can be saved and loaded. "
   ]
  },
  {
   "cell_type": "code",
   "execution_count": 14,
   "metadata": {},
   "outputs": [
    {
     "name": "stdout",
     "output_type": "stream",
     "text": [
      "test_example  (252,)\n",
      "test_label  4.0\n"
     ]
    }
   ],
   "source": [
    "test_example = examples_datasets_train[0][0][0][-1]\n",
    "test_label = labels_datasets_train[0][0][0][-1]\n",
    "\n",
    "print(\"test_example \", np.shape(test_example))\n",
    "print(\"test_label \", test_label)"
   ]
  },
  {
   "cell_type": "code",
   "execution_count": 15,
   "metadata": {},
   "outputs": [],
   "source": [
    "from Models.TSD_neural_network import TSD_Network"
   ]
  },
  {
   "cell_type": "code",
   "execution_count": 16,
   "metadata": {},
   "outputs": [
    {
     "data": {
      "text/plain": [
       "<All keys matched successfully>"
      ]
     },
     "execution_count": 16,
     "metadata": {},
     "output_type": "execute_result"
    }
   ],
   "source": [
    "path_weights =\"/home/laiy/gitrepos/msr_final/LongTermEMG_myo/TrainingsAndEvaluations/ForTrainingSessions/Weights_ros/TSD/participant_0/best_state_0.pt\"\n",
    "num_kernels=[200, 200, 200]                        # model layer size \n",
    "number_of_classes=5\n",
    "feature_vector_input_length=252                     # size of one example \n",
    "\n",
    "model = TSD_Network(number_of_class=number_of_classes, num_neurons=num_kernels,\n",
    "                            feature_vector_input_length=feature_vector_input_length)\n",
    "\n",
    "best_state = torch.load(path_weights)\n",
    "best_weights = best_state['state_dict']\n",
    "model.load_state_dict(best_weights)"
   ]
  },
  {
   "cell_type": "code",
   "execution_count": 17,
   "metadata": {},
   "outputs": [
    {
     "name": "stdout",
     "output_type": "stream",
     "text": [
      "predicted =  4\n",
      "ground =  4.0\n"
     ]
    }
   ],
   "source": [
    "inputs  = torch.from_numpy(np.array([test_example], dtype=np.float32))\n",
    "model.eval()\n",
    "output = model(inputs)\n",
    "_, predicted = torch.max(output.data, 1)\n",
    "print(\"predicted = \", predicted.numpy()[0])\n",
    "print(\"ground = \", test_label)"
   ]
  },
  {
   "cell_type": "code",
   "execution_count": null,
   "metadata": {},
   "outputs": [],
   "source": []
  },
  {
   "cell_type": "code",
   "execution_count": null,
   "metadata": {},
   "outputs": [],
   "source": []
  },
  {
   "cell_type": "code",
   "execution_count": null,
   "metadata": {},
   "outputs": [],
   "source": []
  },
  {
   "cell_type": "code",
   "execution_count": null,
   "metadata": {},
   "outputs": [],
   "source": []
  },
  {
   "cell_type": "code",
   "execution_count": null,
   "metadata": {},
   "outputs": [],
   "source": []
  }
 ],
 "metadata": {
  "kernelspec": {
   "display_name": "Python 3",
   "language": "python",
   "name": "python3"
  },
  "language_info": {
   "codemirror_mode": {
    "name": "ipython",
    "version": 3
   },
   "file_extension": ".py",
   "mimetype": "text/x-python",
   "name": "python",
   "nbconvert_exporter": "python",
   "pygments_lexer": "ipython3",
   "version": "3.8.10"
  }
 },
 "nbformat": 4,
 "nbformat_minor": 4
}
